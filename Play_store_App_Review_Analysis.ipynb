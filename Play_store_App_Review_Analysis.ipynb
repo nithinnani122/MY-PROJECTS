{
  "cells": [
    {
      "cell_type": "markdown",
      "metadata": {
        "id": "view-in-github",
        "colab_type": "text"
      },
      "source": [
        "<a href=\"https://colab.research.google.com/github/nithinnani122/MY-PROJECTS/blob/main/Play_store_App_Review_Analysis.ipynb\" target=\"_parent\"><img src=\"https://colab.research.google.com/assets/colab-badge.svg\" alt=\"Open In Colab\"/></a>"
      ]
    },
    {
      "cell_type": "code",
      "execution_count": null,
      "metadata": {
        "id": "C4HZx7Gndbrh"
      },
      "outputs": [],
      "source": [
        "# Import necessary libraries\n",
        "import pandas as pd\n",
        "import matplotlib.pyplot as plt\n",
        "import seaborn as sns\n"
      ]
    },
    {
      "cell_type": "code",
      "source": [
        "# Load datasets\n",
        "playstore_df = pd.read_csv(\"training data.csv\", encoding=\"latin-1\")\n",
        "reviews_df = pd.read_csv(\"training data.csv\", encoding=\"latin-1\")"
      ],
      "metadata": {
        "id": "MjmAU4I7d2k1"
      },
      "execution_count": null,
      "outputs": []
    },
    {
      "cell_type": "code",
      "source": [
        "# Display first few rows of both datasets to understand the structure\n",
        "print(\"Play Store Apps Data:\")\n",
        "print(playstore_df.head())\n",
        "print(\"\\nCustomer Reviews Data:\")\n",
        "print(reviews_df.head())"
      ],
      "metadata": {
        "colab": {
          "base_uri": "https://localhost:8080/"
        },
        "id": "2itfaU8GfJvW",
        "outputId": "150df770-1a88-4281-deba-c3d6f9087f50"
      },
      "execution_count": null,
      "outputs": [
        {
          "output_type": "stream",
          "name": "stdout",
          "text": [
            "Play Store Apps Data:\n",
            "                               reviewId           userName  \\\n",
            "0  495266a4-f451-48c3-a844-fb3c07560d55     Foysal Hossain   \n",
            "1  947fcd83-7a28-403d-b03b-d0bc20f52e0e          S K VERMA   \n",
            "2  65856211-67ba-4560-84dd-a0055775ed90      Amanuel Abara   \n",
            "3  cd5ba250-3a26-43b4-a378-77d18f73a503  Vagarangas X Aopi   \n",
            "4  e8e886b4-d6c6-416b-b0a1-be90320c4024       Shafin islam   \n",
            "\n",
            "                                           userImage  \\\n",
            "0  https://play-lh.googleusercontent.com/a-/ALV-U...   \n",
            "1  https://play-lh.googleusercontent.com/a/ACg8oc...   \n",
            "2  https://play-lh.googleusercontent.com/a/ACg8oc...   \n",
            "3  https://play-lh.googleusercontent.com/a/ACg8oc...   \n",
            "4  https://play-lh.googleusercontent.com/a-/ALV-U...   \n",
            "\n",
            "                               content  score  thumbsUpCount  \\\n",
            "0  Gett van for no reason ????????????      1              0   \n",
            "1                better' than WhatsApp      4              0   \n",
            "2             That was good app for me      5              0   \n",
            "3                         Love the app      5              0   \n",
            "4                ???????????????      1              0   \n",
            "\n",
            "  reviewCreatedVersion                at replyContent repliedAt appVersion  \\\n",
            "0                  NaN  19-09-2023 15:05          NaN       NaN        NaN   \n",
            "1                  NaN  19-09-2023 14:59          NaN       NaN        NaN   \n",
            "2                  NaN  19-09-2023 14:55          NaN       NaN        NaN   \n",
            "3               10.0.4  19-09-2023 14:50          NaN       NaN     10.0.4   \n",
            "4                  NaN  19-09-2023 14:48          NaN       NaN        NaN   \n",
            "\n",
            "  userLang                  app_id  \n",
            "0       EN  org.telegram.messenger  \n",
            "1       EN  org.telegram.messenger  \n",
            "2       EN  org.telegram.messenger  \n",
            "3       EN  org.telegram.messenger  \n",
            "4       EN  org.telegram.messenger  \n",
            "\n",
            "Customer Reviews Data:\n",
            "                               reviewId           userName  \\\n",
            "0  495266a4-f451-48c3-a844-fb3c07560d55     Foysal Hossain   \n",
            "1  947fcd83-7a28-403d-b03b-d0bc20f52e0e          S K VERMA   \n",
            "2  65856211-67ba-4560-84dd-a0055775ed90      Amanuel Abara   \n",
            "3  cd5ba250-3a26-43b4-a378-77d18f73a503  Vagarangas X Aopi   \n",
            "4  e8e886b4-d6c6-416b-b0a1-be90320c4024       Shafin islam   \n",
            "\n",
            "                                           userImage  \\\n",
            "0  https://play-lh.googleusercontent.com/a-/ALV-U...   \n",
            "1  https://play-lh.googleusercontent.com/a/ACg8oc...   \n",
            "2  https://play-lh.googleusercontent.com/a/ACg8oc...   \n",
            "3  https://play-lh.googleusercontent.com/a/ACg8oc...   \n",
            "4  https://play-lh.googleusercontent.com/a-/ALV-U...   \n",
            "\n",
            "                               content  score  thumbsUpCount  \\\n",
            "0  Gett van for no reason ????????????      1              0   \n",
            "1                better' than WhatsApp      4              0   \n",
            "2             That was good app for me      5              0   \n",
            "3                         Love the app      5              0   \n",
            "4                ???????????????      1              0   \n",
            "\n",
            "  reviewCreatedVersion                at replyContent repliedAt appVersion  \\\n",
            "0                  NaN  19-09-2023 15:05          NaN       NaN        NaN   \n",
            "1                  NaN  19-09-2023 14:59          NaN       NaN        NaN   \n",
            "2                  NaN  19-09-2023 14:55          NaN       NaN        NaN   \n",
            "3               10.0.4  19-09-2023 14:50          NaN       NaN     10.0.4   \n",
            "4                  NaN  19-09-2023 14:48          NaN       NaN        NaN   \n",
            "\n",
            "  userLang                  app_id  \n",
            "0       EN  org.telegram.messenger  \n",
            "1       EN  org.telegram.messenger  \n",
            "2       EN  org.telegram.messenger  \n",
            "3       EN  org.telegram.messenger  \n",
            "4       EN  org.telegram.messenger  \n"
          ]
        }
      ]
    },
    {
      "cell_type": "markdown",
      "metadata": {
        "id": "4_kCnsPUqS6o"
      },
      "source": [
        "You can import your own data into Colab notebooks from your Google Drive account, including from spreadsheets, as well as from GitHub and many other sources. To find out more about importing data, and how Colab can be used for data science, see the links below under <a href=\"#working-with-data\">Working with data</a>."
      ]
    },
    {
      "cell_type": "code",
      "source": [
        "# Check the info of both datasets to understand the columns and data types\n",
        "print(\"\\nPlay Store Apps Data Info:\")\n",
        "print(playstore_df.info())\n",
        "print(\"\\nCustomer Reviews Data Info:\")\n",
        "print(reviews_df.info())"
      ],
      "metadata": {
        "colab": {
          "base_uri": "https://localhost:8080/"
        },
        "id": "ycMNyrccf29d",
        "outputId": "c3bc8f61-6b59-43da-9116-240f7029492d"
      },
      "execution_count": null,
      "outputs": [
        {
          "output_type": "stream",
          "name": "stdout",
          "text": [
            "\n",
            "Play Store Apps Data Info:\n",
            "<class 'pandas.core.frame.DataFrame'>\n",
            "Int64Index: 163 entries, 415 to 5995\n",
            "Data columns (total 13 columns):\n",
            " #   Column                Non-Null Count  Dtype \n",
            "---  ------                --------------  ----- \n",
            " 0   reviewId              163 non-null    object\n",
            " 1   userName              163 non-null    object\n",
            " 2   userImage             163 non-null    object\n",
            " 3   content               163 non-null    object\n",
            " 4   score                 163 non-null    int64 \n",
            " 5   thumbsUpCount         163 non-null    int64 \n",
            " 6   reviewCreatedVersion  163 non-null    object\n",
            " 7   at                    163 non-null    object\n",
            " 8   replyContent          163 non-null    object\n",
            " 9   repliedAt             163 non-null    object\n",
            " 10  appVersion            163 non-null    object\n",
            " 11  userLang              163 non-null    object\n",
            " 12  app_id                163 non-null    object\n",
            "dtypes: int64(2), object(11)\n",
            "memory usage: 17.8+ KB\n",
            "None\n",
            "\n",
            "Customer Reviews Data Info:\n",
            "<class 'pandas.core.frame.DataFrame'>\n",
            "Int64Index: 163 entries, 415 to 5995\n",
            "Data columns (total 13 columns):\n",
            " #   Column                Non-Null Count  Dtype \n",
            "---  ------                --------------  ----- \n",
            " 0   reviewId              163 non-null    object\n",
            " 1   userName              163 non-null    object\n",
            " 2   userImage             163 non-null    object\n",
            " 3   content               163 non-null    object\n",
            " 4   score                 163 non-null    int64 \n",
            " 5   thumbsUpCount         163 non-null    int64 \n",
            " 6   reviewCreatedVersion  163 non-null    object\n",
            " 7   at                    163 non-null    object\n",
            " 8   replyContent          163 non-null    object\n",
            " 9   repliedAt             163 non-null    object\n",
            " 10  appVersion            163 non-null    object\n",
            " 11  userLang              163 non-null    object\n",
            " 12  app_id                163 non-null    object\n",
            "dtypes: int64(2), object(11)\n",
            "memory usage: 17.8+ KB\n",
            "None\n"
          ]
        }
      ]
    },
    {
      "cell_type": "code",
      "source": [
        "# Data cleaning and preprocessing\n",
        "# Handle missing values\n",
        "playstore_df.dropna(inplace=True)\n",
        "reviews_df.dropna(inplace=True)"
      ],
      "metadata": {
        "id": "eQRP5G1sf7Tt"
      },
      "execution_count": null,
      "outputs": []
    },
    {
      "cell_type": "code",
      "source": [
        "# Remove duplicates\n",
        "playstore_df.drop_duplicates(inplace=True)\n",
        "reviews_df.drop_duplicates(inplace=True)\n"
      ],
      "metadata": {
        "id": "qClFNUBuf-dV"
      },
      "execution_count": null,
      "outputs": []
    },
    {
      "source": [
        "print(playstore_df.columns)\n",
        "print(reviews_df.columns)"
      ],
      "cell_type": "code",
      "metadata": {
        "colab": {
          "base_uri": "https://localhost:8080/"
        },
        "id": "l8fvR1QagNgT",
        "outputId": "4bc5d3ab-83e6-4907-c483-ec583420d271"
      },
      "execution_count": null,
      "outputs": [
        {
          "output_type": "stream",
          "name": "stdout",
          "text": [
            "Index(['reviewId', 'userName', 'userImage', 'content', 'score',\n",
            "       'thumbsUpCount', 'reviewCreatedVersion', 'at', 'replyContent',\n",
            "       'repliedAt', 'appVersion', 'userLang', 'app_id'],\n",
            "      dtype='object')\n",
            "Index(['reviewId', 'userName', 'userImage', 'content', 'score',\n",
            "       'thumbsUpCount', 'reviewCreatedVersion', 'at', 'replyContent',\n",
            "       'repliedAt', 'appVersion', 'userLang', 'app_id'],\n",
            "      dtype='object')\n"
          ]
        }
      ]
    },
    {
      "source": [
        "print(playstore_df.columns)\n",
        "print(reviews_df.columns)"
      ],
      "cell_type": "code",
      "metadata": {
        "colab": {
          "base_uri": "https://localhost:8080/"
        },
        "id": "t6GsZHbJgZLj",
        "outputId": "937e45ca-1c96-4089-90d5-111deacb9131"
      },
      "execution_count": null,
      "outputs": [
        {
          "output_type": "stream",
          "name": "stdout",
          "text": [
            "Index(['reviewId', 'userName', 'userImage', 'content', 'score',\n",
            "       'thumbsUpCount', 'reviewCreatedVersion', 'at', 'replyContent',\n",
            "       'repliedAt', 'appVersion', 'userLang', 'app_id'],\n",
            "      dtype='object')\n",
            "Index(['reviewId', 'userName', 'userImage', 'content', 'score',\n",
            "       'thumbsUpCount', 'reviewCreatedVersion', 'at', 'replyContent',\n",
            "       'repliedAt', 'appVersion', 'userLang', 'app_id'],\n",
            "      dtype='object')\n"
          ]
        }
      ]
    },
    {
      "source": [
        "playstore_df.head()\n",
        "reviews_df.head()"
      ],
      "cell_type": "code",
      "metadata": {
        "colab": {
          "base_uri": "https://localhost:8080/",
          "height": 504
        },
        "id": "NcpFhuYlgZcL",
        "outputId": "bf4ae472-16c1-4e74-a01e-81622f1ce6b0"
      },
      "execution_count": null,
      "outputs": [
        {
          "output_type": "execute_result",
          "data": {
            "text/plain": [
              "                                 reviewId                            userName  \\\n",
              "415  d9246eeb-15ef-4d21-9f4e-1cd4a4104e02                               M. A.   \n",
              "436  96edac7d-5297-4c30-9406-8dddb8f76777  Daniel Schenk (kristallzucker2007)   \n",
              "437  8612f1bf-dd32-431d-81d5-759e58665635                                S .S   \n",
              "508  cfd281a3-3fd3-49eb-b687-33c8705343c4                   Ein Google-Nutzer   \n",
              "549  8fed1372-64bd-4173-9b03-19fe42e9ee24                         Fridruf Hau   \n",
              "\n",
              "                                             userImage  \\\n",
              "415  https://play-lh.googleusercontent.com/a/ACg8oc...   \n",
              "436  https://play-lh.googleusercontent.com/a/ACg8oc...   \n",
              "437  https://play-lh.googleusercontent.com/a-/ALV-U...   \n",
              "508  https://play-lh.googleusercontent.com/EGemoI2N...   \n",
              "549  https://play-lh.googleusercontent.com/a/ACg8oc...   \n",
              "\n",
              "                                               content  score  thumbsUpCount  \\\n",
              "415  Alles im allen ganz ok, allerdings nervt die n...      3              9   \n",
              "436  St??ndig Updates, NERVT gestern 24.08.23 berei...      1             23   \n",
              "437  Albanische sprechen bitte und fremde Leute sch...      3              6   \n",
              "508  Standardm????ig keine Ende-zu-Ende-Verschl?¬ss...      3             37   \n",
              "549  stories, vollkommene sch...e und es l??sst sic...      4              3   \n",
              "\n",
              "    reviewCreatedVersion                at  \\\n",
              "415                5.6.0  16-09-2023 13:13   \n",
              "436               10.0.6  13-09-2023 21:11   \n",
              "437               10.0.5  13-09-2023 19:02   \n",
              "508               10.0.5  02-09-2023 23:09   \n",
              "549               10.0.4  29-08-2023 13:10   \n",
              "\n",
              "                                          replyContent         repliedAt  \\\n",
              "415  Hallo, der Chat \"Gespeichertes\" ist ideal als ...  22-07-2021 16:51   \n",
              "436  Hallo, die letzten waren am 20. M??rz und vorg...  18-04-2022 20:50   \n",
              "437  Tung, schau mal hier: https://translations.tel...  12-03-2022 04:35   \n",
              "508  Was ist bei unserem Protokoll nicht sicher? Me...  18-10-2016 10:31   \n",
              "549  Stories von deinen Kontakten nehmen in der Tel...  27-08-2023 09:02   \n",
              "\n",
              "    appVersion userLang                  app_id  \n",
              "415      5.6.0       DE  org.telegram.messenger  \n",
              "436     10.0.6       DE  org.telegram.messenger  \n",
              "437     10.0.5       DE  org.telegram.messenger  \n",
              "508     10.0.5       DE  org.telegram.messenger  \n",
              "549     10.0.4       DE  org.telegram.messenger  "
            ],
            "text/html": [
              "\n",
              "  <div id=\"df-86cb3ab6-a773-479a-a960-db40d9f6a1e6\" class=\"colab-df-container\">\n",
              "    <div>\n",
              "<style scoped>\n",
              "    .dataframe tbody tr th:only-of-type {\n",
              "        vertical-align: middle;\n",
              "    }\n",
              "\n",
              "    .dataframe tbody tr th {\n",
              "        vertical-align: top;\n",
              "    }\n",
              "\n",
              "    .dataframe thead th {\n",
              "        text-align: right;\n",
              "    }\n",
              "</style>\n",
              "<table border=\"1\" class=\"dataframe\">\n",
              "  <thead>\n",
              "    <tr style=\"text-align: right;\">\n",
              "      <th></th>\n",
              "      <th>reviewId</th>\n",
              "      <th>userName</th>\n",
              "      <th>userImage</th>\n",
              "      <th>content</th>\n",
              "      <th>score</th>\n",
              "      <th>thumbsUpCount</th>\n",
              "      <th>reviewCreatedVersion</th>\n",
              "      <th>at</th>\n",
              "      <th>replyContent</th>\n",
              "      <th>repliedAt</th>\n",
              "      <th>appVersion</th>\n",
              "      <th>userLang</th>\n",
              "      <th>app_id</th>\n",
              "    </tr>\n",
              "  </thead>\n",
              "  <tbody>\n",
              "    <tr>\n",
              "      <th>415</th>\n",
              "      <td>d9246eeb-15ef-4d21-9f4e-1cd4a4104e02</td>\n",
              "      <td>M. A.</td>\n",
              "      <td>https://play-lh.googleusercontent.com/a/ACg8oc...</td>\n",
              "      <td>Alles im allen ganz ok, allerdings nervt die n...</td>\n",
              "      <td>3</td>\n",
              "      <td>9</td>\n",
              "      <td>5.6.0</td>\n",
              "      <td>16-09-2023 13:13</td>\n",
              "      <td>Hallo, der Chat \"Gespeichertes\" ist ideal als ...</td>\n",
              "      <td>22-07-2021 16:51</td>\n",
              "      <td>5.6.0</td>\n",
              "      <td>DE</td>\n",
              "      <td>org.telegram.messenger</td>\n",
              "    </tr>\n",
              "    <tr>\n",
              "      <th>436</th>\n",
              "      <td>96edac7d-5297-4c30-9406-8dddb8f76777</td>\n",
              "      <td>Daniel Schenk (kristallzucker2007)</td>\n",
              "      <td>https://play-lh.googleusercontent.com/a/ACg8oc...</td>\n",
              "      <td>St??ndig Updates, NERVT gestern 24.08.23 berei...</td>\n",
              "      <td>1</td>\n",
              "      <td>23</td>\n",
              "      <td>10.0.6</td>\n",
              "      <td>13-09-2023 21:11</td>\n",
              "      <td>Hallo, die letzten waren am 20. M??rz und vorg...</td>\n",
              "      <td>18-04-2022 20:50</td>\n",
              "      <td>10.0.6</td>\n",
              "      <td>DE</td>\n",
              "      <td>org.telegram.messenger</td>\n",
              "    </tr>\n",
              "    <tr>\n",
              "      <th>437</th>\n",
              "      <td>8612f1bf-dd32-431d-81d5-759e58665635</td>\n",
              "      <td>S .S</td>\n",
              "      <td>https://play-lh.googleusercontent.com/a-/ALV-U...</td>\n",
              "      <td>Albanische sprechen bitte und fremde Leute sch...</td>\n",
              "      <td>3</td>\n",
              "      <td>6</td>\n",
              "      <td>10.0.5</td>\n",
              "      <td>13-09-2023 19:02</td>\n",
              "      <td>Tung, schau mal hier: https://translations.tel...</td>\n",
              "      <td>12-03-2022 04:35</td>\n",
              "      <td>10.0.5</td>\n",
              "      <td>DE</td>\n",
              "      <td>org.telegram.messenger</td>\n",
              "    </tr>\n",
              "    <tr>\n",
              "      <th>508</th>\n",
              "      <td>cfd281a3-3fd3-49eb-b687-33c8705343c4</td>\n",
              "      <td>Ein Google-Nutzer</td>\n",
              "      <td>https://play-lh.googleusercontent.com/EGemoI2N...</td>\n",
              "      <td>Standardm????ig keine Ende-zu-Ende-Verschl?¬ss...</td>\n",
              "      <td>3</td>\n",
              "      <td>37</td>\n",
              "      <td>10.0.5</td>\n",
              "      <td>02-09-2023 23:09</td>\n",
              "      <td>Was ist bei unserem Protokoll nicht sicher? Me...</td>\n",
              "      <td>18-10-2016 10:31</td>\n",
              "      <td>10.0.5</td>\n",
              "      <td>DE</td>\n",
              "      <td>org.telegram.messenger</td>\n",
              "    </tr>\n",
              "    <tr>\n",
              "      <th>549</th>\n",
              "      <td>8fed1372-64bd-4173-9b03-19fe42e9ee24</td>\n",
              "      <td>Fridruf Hau</td>\n",
              "      <td>https://play-lh.googleusercontent.com/a/ACg8oc...</td>\n",
              "      <td>stories, vollkommene sch...e und es l??sst sic...</td>\n",
              "      <td>4</td>\n",
              "      <td>3</td>\n",
              "      <td>10.0.4</td>\n",
              "      <td>29-08-2023 13:10</td>\n",
              "      <td>Stories von deinen Kontakten nehmen in der Tel...</td>\n",
              "      <td>27-08-2023 09:02</td>\n",
              "      <td>10.0.4</td>\n",
              "      <td>DE</td>\n",
              "      <td>org.telegram.messenger</td>\n",
              "    </tr>\n",
              "  </tbody>\n",
              "</table>\n",
              "</div>\n",
              "    <div class=\"colab-df-buttons\">\n",
              "\n",
              "  <div class=\"colab-df-container\">\n",
              "    <button class=\"colab-df-convert\" onclick=\"convertToInteractive('df-86cb3ab6-a773-479a-a960-db40d9f6a1e6')\"\n",
              "            title=\"Convert this dataframe to an interactive table.\"\n",
              "            style=\"display:none;\">\n",
              "\n",
              "  <svg xmlns=\"http://www.w3.org/2000/svg\" height=\"24px\" viewBox=\"0 -960 960 960\">\n",
              "    <path d=\"M120-120v-720h720v720H120Zm60-500h600v-160H180v160Zm220 220h160v-160H400v160Zm0 220h160v-160H400v160ZM180-400h160v-160H180v160Zm440 0h160v-160H620v160ZM180-180h160v-160H180v160Zm440 0h160v-160H620v160Z\"/>\n",
              "  </svg>\n",
              "    </button>\n",
              "\n",
              "  <style>\n",
              "    .colab-df-container {\n",
              "      display:flex;\n",
              "      gap: 12px;\n",
              "    }\n",
              "\n",
              "    .colab-df-convert {\n",
              "      background-color: #E8F0FE;\n",
              "      border: none;\n",
              "      border-radius: 50%;\n",
              "      cursor: pointer;\n",
              "      display: none;\n",
              "      fill: #1967D2;\n",
              "      height: 32px;\n",
              "      padding: 0 0 0 0;\n",
              "      width: 32px;\n",
              "    }\n",
              "\n",
              "    .colab-df-convert:hover {\n",
              "      background-color: #E2EBFA;\n",
              "      box-shadow: 0px 1px 2px rgba(60, 64, 67, 0.3), 0px 1px 3px 1px rgba(60, 64, 67, 0.15);\n",
              "      fill: #174EA6;\n",
              "    }\n",
              "\n",
              "    .colab-df-buttons div {\n",
              "      margin-bottom: 4px;\n",
              "    }\n",
              "\n",
              "    [theme=dark] .colab-df-convert {\n",
              "      background-color: #3B4455;\n",
              "      fill: #D2E3FC;\n",
              "    }\n",
              "\n",
              "    [theme=dark] .colab-df-convert:hover {\n",
              "      background-color: #434B5C;\n",
              "      box-shadow: 0px 1px 3px 1px rgba(0, 0, 0, 0.15);\n",
              "      filter: drop-shadow(0px 1px 2px rgba(0, 0, 0, 0.3));\n",
              "      fill: #FFFFFF;\n",
              "    }\n",
              "  </style>\n",
              "\n",
              "    <script>\n",
              "      const buttonEl =\n",
              "        document.querySelector('#df-86cb3ab6-a773-479a-a960-db40d9f6a1e6 button.colab-df-convert');\n",
              "      buttonEl.style.display =\n",
              "        google.colab.kernel.accessAllowed ? 'block' : 'none';\n",
              "\n",
              "      async function convertToInteractive(key) {\n",
              "        const element = document.querySelector('#df-86cb3ab6-a773-479a-a960-db40d9f6a1e6');\n",
              "        const dataTable =\n",
              "          await google.colab.kernel.invokeFunction('convertToInteractive',\n",
              "                                                    [key], {});\n",
              "        if (!dataTable) return;\n",
              "\n",
              "        const docLinkHtml = 'Like what you see? Visit the ' +\n",
              "          '<a target=\"_blank\" href=https://colab.research.google.com/notebooks/data_table.ipynb>data table notebook</a>'\n",
              "          + ' to learn more about interactive tables.';\n",
              "        element.innerHTML = '';\n",
              "        dataTable['output_type'] = 'display_data';\n",
              "        await google.colab.output.renderOutput(dataTable, element);\n",
              "        const docLink = document.createElement('div');\n",
              "        docLink.innerHTML = docLinkHtml;\n",
              "        element.appendChild(docLink);\n",
              "      }\n",
              "    </script>\n",
              "  </div>\n",
              "\n",
              "\n",
              "<div id=\"df-683cb9c8-9c70-4bd9-83b4-8377695ce790\">\n",
              "  <button class=\"colab-df-quickchart\" onclick=\"quickchart('df-683cb9c8-9c70-4bd9-83b4-8377695ce790')\"\n",
              "            title=\"Suggest charts\"\n",
              "            style=\"display:none;\">\n",
              "\n",
              "<svg xmlns=\"http://www.w3.org/2000/svg\" height=\"24px\"viewBox=\"0 0 24 24\"\n",
              "     width=\"24px\">\n",
              "    <g>\n",
              "        <path d=\"M19 3H5c-1.1 0-2 .9-2 2v14c0 1.1.9 2 2 2h14c1.1 0 2-.9 2-2V5c0-1.1-.9-2-2-2zM9 17H7v-7h2v7zm4 0h-2V7h2v10zm4 0h-2v-4h2v4z\"/>\n",
              "    </g>\n",
              "</svg>\n",
              "  </button>\n",
              "\n",
              "<style>\n",
              "  .colab-df-quickchart {\n",
              "      --bg-color: #E8F0FE;\n",
              "      --fill-color: #1967D2;\n",
              "      --hover-bg-color: #E2EBFA;\n",
              "      --hover-fill-color: #174EA6;\n",
              "      --disabled-fill-color: #AAA;\n",
              "      --disabled-bg-color: #DDD;\n",
              "  }\n",
              "\n",
              "  [theme=dark] .colab-df-quickchart {\n",
              "      --bg-color: #3B4455;\n",
              "      --fill-color: #D2E3FC;\n",
              "      --hover-bg-color: #434B5C;\n",
              "      --hover-fill-color: #FFFFFF;\n",
              "      --disabled-bg-color: #3B4455;\n",
              "      --disabled-fill-color: #666;\n",
              "  }\n",
              "\n",
              "  .colab-df-quickchart {\n",
              "    background-color: var(--bg-color);\n",
              "    border: none;\n",
              "    border-radius: 50%;\n",
              "    cursor: pointer;\n",
              "    display: none;\n",
              "    fill: var(--fill-color);\n",
              "    height: 32px;\n",
              "    padding: 0;\n",
              "    width: 32px;\n",
              "  }\n",
              "\n",
              "  .colab-df-quickchart:hover {\n",
              "    background-color: var(--hover-bg-color);\n",
              "    box-shadow: 0 1px 2px rgba(60, 64, 67, 0.3), 0 1px 3px 1px rgba(60, 64, 67, 0.15);\n",
              "    fill: var(--button-hover-fill-color);\n",
              "  }\n",
              "\n",
              "  .colab-df-quickchart-complete:disabled,\n",
              "  .colab-df-quickchart-complete:disabled:hover {\n",
              "    background-color: var(--disabled-bg-color);\n",
              "    fill: var(--disabled-fill-color);\n",
              "    box-shadow: none;\n",
              "  }\n",
              "\n",
              "  .colab-df-spinner {\n",
              "    border: 2px solid var(--fill-color);\n",
              "    border-color: transparent;\n",
              "    border-bottom-color: var(--fill-color);\n",
              "    animation:\n",
              "      spin 1s steps(1) infinite;\n",
              "  }\n",
              "\n",
              "  @keyframes spin {\n",
              "    0% {\n",
              "      border-color: transparent;\n",
              "      border-bottom-color: var(--fill-color);\n",
              "      border-left-color: var(--fill-color);\n",
              "    }\n",
              "    20% {\n",
              "      border-color: transparent;\n",
              "      border-left-color: var(--fill-color);\n",
              "      border-top-color: var(--fill-color);\n",
              "    }\n",
              "    30% {\n",
              "      border-color: transparent;\n",
              "      border-left-color: var(--fill-color);\n",
              "      border-top-color: var(--fill-color);\n",
              "      border-right-color: var(--fill-color);\n",
              "    }\n",
              "    40% {\n",
              "      border-color: transparent;\n",
              "      border-right-color: var(--fill-color);\n",
              "      border-top-color: var(--fill-color);\n",
              "    }\n",
              "    60% {\n",
              "      border-color: transparent;\n",
              "      border-right-color: var(--fill-color);\n",
              "    }\n",
              "    80% {\n",
              "      border-color: transparent;\n",
              "      border-right-color: var(--fill-color);\n",
              "      border-bottom-color: var(--fill-color);\n",
              "    }\n",
              "    90% {\n",
              "      border-color: transparent;\n",
              "      border-bottom-color: var(--fill-color);\n",
              "    }\n",
              "  }\n",
              "</style>\n",
              "\n",
              "  <script>\n",
              "    async function quickchart(key) {\n",
              "      const quickchartButtonEl =\n",
              "        document.querySelector('#' + key + ' button');\n",
              "      quickchartButtonEl.disabled = true;  // To prevent multiple clicks.\n",
              "      quickchartButtonEl.classList.add('colab-df-spinner');\n",
              "      try {\n",
              "        const charts = await google.colab.kernel.invokeFunction(\n",
              "            'suggestCharts', [key], {});\n",
              "      } catch (error) {\n",
              "        console.error('Error during call to suggestCharts:', error);\n",
              "      }\n",
              "      quickchartButtonEl.classList.remove('colab-df-spinner');\n",
              "      quickchartButtonEl.classList.add('colab-df-quickchart-complete');\n",
              "    }\n",
              "    (() => {\n",
              "      let quickchartButtonEl =\n",
              "        document.querySelector('#df-683cb9c8-9c70-4bd9-83b4-8377695ce790 button');\n",
              "      quickchartButtonEl.style.display =\n",
              "        google.colab.kernel.accessAllowed ? 'block' : 'none';\n",
              "    })();\n",
              "  </script>\n",
              "</div>\n",
              "\n",
              "    </div>\n",
              "  </div>\n"
            ],
            "application/vnd.google.colaboratory.intrinsic+json": {
              "type": "dataframe",
              "variable_name": "reviews_df",
              "repr_error": "0"
            }
          },
          "metadata": {},
          "execution_count": 16
        }
      ]
    },
    {
      "source": [
        "merged_df = pd.merge(playstore_df, reviews_df, on='app_id', how='inner')"
      ],
      "cell_type": "code",
      "metadata": {
        "id": "eeDA4qGEgZ0y"
      },
      "execution_count": null,
      "outputs": []
    },
    {
      "cell_type": "code",
      "source": [
        "# Data analysis\n",
        "# Summary statistics\n",
        "print(\"\\nSummary Statistics of Merged Data:\")\n",
        "print(merged_df.describe())"
      ],
      "metadata": {
        "colab": {
          "base_uri": "https://localhost:8080/"
        },
        "id": "Xxp84OATgwA1",
        "outputId": "a7e8926c-f5e3-4bdb-9fc5-dc8d4dd5c3f2"
      },
      "execution_count": null,
      "outputs": [
        {
          "output_type": "stream",
          "name": "stdout",
          "text": [
            "\n",
            "Summary Statistics of Merged Data:\n",
            "            score_x  thumbsUpCount_x       score_y  thumbsUpCount_y\n",
            "count  11949.000000     11949.000000  11949.000000     11949.000000\n",
            "mean       2.482969         4.950205      2.482969         4.950205\n",
            "std        1.580551        14.723303      1.580551        14.723303\n",
            "min        1.000000         0.000000      1.000000         0.000000\n",
            "25%        1.000000         0.000000      1.000000         0.000000\n",
            "50%        2.000000         0.000000      2.000000         0.000000\n",
            "75%        4.000000         2.000000      4.000000         2.000000\n",
            "max        5.000000       271.000000      5.000000       271.000000\n"
          ]
        }
      ]
    },
    {
      "cell_type": "code",
      "source": [
        "print(\"\\nSummary Statistics of Merged Data:\")\n",
        "print(merged_df.describe())\n"
      ],
      "metadata": {
        "colab": {
          "base_uri": "https://localhost:8080/"
        },
        "id": "t0h4yB92h-38",
        "outputId": "4e4833bc-4df9-47de-afce-269200856551"
      },
      "execution_count": null,
      "outputs": [
        {
          "output_type": "stream",
          "name": "stdout",
          "text": [
            "\n",
            "Summary Statistics of Merged Data:\n",
            "            score_x  thumbsUpCount_x       score_y  thumbsUpCount_y\n",
            "count  11949.000000     11949.000000  11949.000000     11949.000000\n",
            "mean       2.482969         4.950205      2.482969         4.950205\n",
            "std        1.580551        14.723303      1.580551        14.723303\n",
            "min        1.000000         0.000000      1.000000         0.000000\n",
            "25%        1.000000         0.000000      1.000000         0.000000\n",
            "50%        2.000000         0.000000      2.000000         0.000000\n",
            "75%        4.000000         2.000000      4.000000         2.000000\n",
            "max        5.000000       271.000000      5.000000       271.000000\n"
          ]
        }
      ]
    },
    {
      "cell_type": "code",
      "source": [
        "print(merged_df.columns)\n"
      ],
      "metadata": {
        "colab": {
          "base_uri": "https://localhost:8080/"
        },
        "id": "bX0hd-J9lJik",
        "outputId": "e0c0645b-6b3d-403b-d429-a47661f1bae4"
      },
      "execution_count": null,
      "outputs": [
        {
          "output_type": "stream",
          "name": "stdout",
          "text": [
            "Index(['reviewId_x', 'userName_x', 'userImage_x', 'content_x', 'score_x',\n",
            "       'thumbsUpCount_x', 'reviewCreatedVersion_x', 'at_x', 'replyContent_x',\n",
            "       'repliedAt_x', 'appVersion_x', 'userLang_x', 'app_id', 'reviewId_y',\n",
            "       'userName_y', 'userImage_y', 'content_y', 'score_y', 'thumbsUpCount_y',\n",
            "       'reviewCreatedVersion_y', 'at_y', 'replyContent_y', 'repliedAt_y',\n",
            "       'appVersion_y', 'userLang_y'],\n",
            "      dtype='object')\n"
          ]
        }
      ]
    },
    {
      "cell_type": "code",
      "source": [
        "# Visualizations\n",
        "# Relationship between ratings and reviews\n",
        "plt.figure(figsize=(10, 6))\n",
        "sns.scatterplot(x='score_x', y='thumbsUpCount_x', data=merged_df)\n",
        "plt.title('Relationship between Ratings and Reviews')\n",
        "plt.xlabel('Rating')\n",
        "plt.ylabel('Reviews')\n",
        "plt.show()\n"
      ],
      "metadata": {
        "colab": {
          "base_uri": "https://localhost:8080/",
          "height": 564
        },
        "id": "nZp1C4bYlQ9z",
        "outputId": "891a1351-6178-49a3-f960-28aa285aa253"
      },
      "execution_count": null,
      "outputs": [
        {
          "output_type": "display_data",
          "data": {
            "text/plain": [
              "<Figure size 1000x600 with 1 Axes>"
            ],
            "image/png": "[encoded data removed]"
          },
          "metadata": {}
        }
      ]
    },
    {
      "cell_type": "code",
      "source": [
        "# Correlation heatmap\n",
        "plt.figure(figsize=(12, 8))\n",
        "sns.heatmap(merged_df.corr(), annot=True, cmap='coolwarm', linewidths=0.5)\n",
        "plt.title('Correlation Heatmap')\n",
        "plt.show()"
      ],
      "metadata": {
        "colab": {
          "base_uri": "https://localhost:8080/",
          "height": 754
        },
        "id": "aKjxIIoPlXJj",
        "outputId": "9a719327-fb83-4512-e6da-b90b74c16f76"
      },
      "execution_count": null,
      "outputs": [
        {
          "output_type": "stream",
          "name": "stderr",
          "text": [
            "<ipython-input-32-1886bd6f2557>:3: FutureWarning: The default value of numeric_only in DataFrame.corr is deprecated. In a future version, it will default to False. Select only valid columns or specify the value of numeric_only to silence this warning.\n",
            "  sns.heatmap(merged_df.corr(), annot=True, cmap='coolwarm', linewidths=0.5)\n"
          ]
        },
        {
          "output_type": "display_data",
          "data": {
            "text/plain": [
              "<Figure size 1200x800 with 2 Axes>"
            ],
            "image/png": "[encoded data removed]"
          },
          "metadata": {}
        }
      ]
    },
    {
      "cell_type": "code",
      "source": [
        "# Explore other features and their impact on app engagement and success\n",
        "# Example:\n",
        "# Impact of app version on ratings\n",
        "plt.figure(figsize=(10, 6))\n",
        "sns.boxplot(x='appVersion_x', y='score_x', data=merged_df)\n",
        "plt.title('Impact of App Version on Ratings')\n",
        "plt.xlabel('App Version')\n",
        "plt.ylabel('Rating')\n",
        "plt.xticks(rotation=90)\n",
        "plt.show()"
      ],
      "metadata": {
        "colab": {
          "base_uri": "https://localhost:8080/",
          "height": 616
        },
        "id": "nQJCXRJsnOk7",
        "outputId": "de88e97e-d890-4ff5-a822-ca9eb738253a"
      },
      "execution_count": null,
      "outputs": [
        {
          "output_type": "display_data",
          "data": {
            "text/plain": [
              "<Figure size 1000x600 with 1 Axes>"
            ],
            "image/png": "[encoded data removed]"
          },
          "metadata": {}
        }
      ]
    }
  ],
  "metadata": {
    "colab": {
      "provenance": [],
      "include_colab_link": true
    },
    "kernelspec": {
      "display_name": "Python 3",
      "name": "python3"
    }
  },
  "nbformat": 4,
  "nbformat_minor": 0
}